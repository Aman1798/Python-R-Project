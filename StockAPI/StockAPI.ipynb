{
 "cells": [
  {
   "attachments": {},
   "cell_type": "markdown",
   "metadata": {},
   "source": [
    "This Python script uses the Alpha Vantage API to fetch and visualize financial data. Here’s a breakdown of what the code does:\n",
    "\n",
    "* __Imports:__ The necessary libraries and modules are imported.\n",
    "\n",
    "* __API Key:__ The Alpha Vantage API key is defined.\n",
    "\n",
    "* __plot_data Function:__ This function fetches and plots data for a given symbol (like ‘AAPL’ for Apple Inc.). It does the following:\n",
    "\n",
    "                    *Fetches intraday data for the symbol and plots the closing prices.\n",
    "                    *Fetches sector performance data and plots the real-time performance per sector.\n",
    "                    *Fetches daily digital currency data for the symbol and plots the daily close value.\n",
    "\n",
    "* __get_data_async Function:__ This asynchronous function fetches data for multiple symbols concurrently. It creates a task for each symbol, gathers the results from all tasks, and then closes each task.\n",
    "\n",
    "* __Symbols Definition:__ The symbols for which data is to be fetched are defined.\n",
    "\n",
    "* __Data Fetching and Plotting:__ The plot_data function is called for each symbol to fetch and plot the data.\n",
    "\n",
    "* __Asynchronous Data Fetching:__ The get_data_async function is called to fetch data for all symbols concurrently. The results are printed.\n",
    "\n",
    "This script will output a series of plots for each symbol showing the intraday time series, the real-time performance per sector, and the daily close value for the digital currency. Additionally, it would print the results of the asynchronous data fetching, which would be the data fetched for each symbol."
   ]
  },
  {
   "cell_type": "code",
   "execution_count": 5,
   "metadata": {},
   "outputs": [],
   "source": [
    "import pandas as pd\n",
    "from alpha_vantage.timeseries import TimeSeries\n",
    "from alpha_vantage.sectorperformance import SectorPerformances\n",
    "from alpha_vantage.cryptocurrencies import CryptoCurrencies\n",
    "from alpha_vantage.async_support.timeseries import TimeSeries as AsyncTimeSeries\n",
    "import matplotlib.pyplot as plt\n",
    "import asyncio"
   ]
  },
  {
   "cell_type": "code",
   "execution_count": null,
   "metadata": {},
   "outputs": [],
   "source": [
    "# Define your Alpha Vantage API key\n",
    "API_KEY = 'Enter Your API KEY'  \n",
    "\n",
    "# Function to handle API calls and plot data\n",
    "def plot_data(symbol, market='CNY', interval='1min', outputsize='full'):\n",
    "    try:\n",
    "        # Create a TimeSeries object\n",
    "        ts = TimeSeries(key=API_KEY, output_format='pandas')\n",
    "        # Get intraday data\n",
    "        data, _ = ts.get_intraday(symbol=symbol, interval=interval, outputsize=outputsize)\n",
    "        # Plot closing prices\n",
    "        data['4. close'].plot()\n",
    "        plt.title(f'Intraday Times Series for the {symbol} stock ({interval})')\n",
    "        plt.show()\n",
    "\n",
    "        # Create a SectorPerformances object\n",
    "        sp = SectorPerformances(key=API_KEY, output_format='pandas')\n",
    "        # Get sector performance data\n",
    "        data, _ = sp.get_sector()\n",
    "        # Plot real-time performance per sector\n",
    "        data['Rank A: Real-Time Performance'].plot(kind='bar')\n",
    "        plt.title('Real Time Performance (%) per Sector')\n",
    "        plt.tight_layout()\n",
    "        plt.grid()\n",
    "        plt.show()\n",
    "\n",
    "        # Create a CryptoCurrencies object\n",
    "        cc = CryptoCurrencies(key=API_KEY, output_format='pandas')\n",
    "        # Get daily digital currency data\n",
    "        data, _ = cc.get_digital_currency_daily(symbol=symbol, market=market)\n",
    "        # Plot daily close value\n",
    "        data['4b. close (USD)'].plot()\n",
    "        plt.tight_layout()\n",
    "        plt.title(f'Daily close value for {symbol}')\n",
    "        plt.grid()\n",
    "        plt.show()\n",
    "    except Exception as e:\n",
    "        print(f\"An error occurred: {e}\")"
   ]
  },
  {
   "cell_type": "code",
   "execution_count": null,
   "metadata": {},
   "outputs": [],
   "source": [
    "# Async function to get data for multiple symbols\n",
    "async def get_data_async(symbols):\n",
    "    tasks = []\n",
    "    for symbol in symbols:\n",
    "        # Create an AsyncTimeSeries object\n",
    "        ts = AsyncTimeSeries(key=API_KEY)\n",
    "        # Create a task for each symbol\n",
    "        task = asyncio.ensure_future(ts.get_quote_endpoint(symbol))\n",
    "        tasks.append(task)\n",
    "    # Gather results from all tasks\n",
    "    results = await asyncio.gather(*tasks)\n",
    "    # Close each task\n",
    "    for task in tasks:\n",
    "        await task.close()\n",
    "    return results"
   ]
  },
  {
   "cell_type": "code",
   "execution_count": null,
   "metadata": {},
   "outputs": [],
   "source": [
    "# Define the symbols for which you want to get data\n",
    "symbols = ['AAPL', 'GOOG', 'TSLA', 'MSFT']\n",
    "for symbol in symbols:\n",
    "    # Call the plot_data function for each symbol\n",
    "    plot_data(symbol)\n",
    "\n",
    "# Call the async function and print the results\n",
    "results = asyncio.run(get_data_async(symbols))\n",
    "print(results)"
   ]
  }
 ],
 "metadata": {
  "kernelspec": {
   "display_name": "Python 3",
   "language": "python",
   "name": "python3"
  },
  "language_info": {
   "codemirror_mode": {
    "name": "ipython",
    "version": 3
   },
   "file_extension": ".py",
   "mimetype": "text/x-python",
   "name": "python",
   "nbconvert_exporter": "python",
   "pygments_lexer": "ipython3",
   "version": "3.10.11"
  },
  "orig_nbformat": 4
 },
 "nbformat": 4,
 "nbformat_minor": 2
}
